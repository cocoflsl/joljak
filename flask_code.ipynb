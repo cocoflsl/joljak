{
  "nbformat": 4,
  "nbformat_minor": 0,
  "metadata": {
    "colab": {
      "provenance": [],
      "authorship_tag": "ABX9TyNxe2sbiAH+BTgN7MjU4lfg",
      "include_colab_link": true
    },
    "kernelspec": {
      "name": "python3",
      "display_name": "Python 3"
    },
    "language_info": {
      "name": "python"
    }
  },
  "cells": [
    {
      "cell_type": "markdown",
      "metadata": {
        "id": "view-in-github",
        "colab_type": "text"
      },
      "source": [
        "<a href=\"https://colab.research.google.com/github/cocoflsl/joljak/blob/main/flask_code.ipynb\" target=\"_parent\"><img src=\"https://colab.research.google.com/assets/colab-badge.svg\" alt=\"Open In Colab\"/></a>"
      ]
    },
    {
      "cell_type": "code",
      "source": [
        "from flask import Flask, render_template, request\n",
        "import base64\n",
        "from PIL import Image\n",
        "from io import BytesIO\n",
        "import requests\n",
        "import numpy as np\n",
        "import tensorflow as tf\n",
        "\n",
        "app = Flask(__name__)\n",
        "\n",
        "@app.route('/')\n",
        "def home():\n",
        "    return render_template('home.html')\n",
        "\n",
        "@app.route('/drawing')\n",
        "def drawing_page():\n",
        "    return render_template('drawing_page.html')\n",
        "\n",
        "@app.route('/analyze', methods=['POST'])\n",
        "def analyze():\n",
        "    data = request.form.to_dict()\n",
        "    identifier = data.get('identifier')\n",
        "\n",
        "    # 이미지 base64 디코딩\n",
        "    image_data = data.get('imageData')\n",
        "    image_data = base64.b64decode(image_data.split(',')[1])\n",
        "    image = Image.open(BytesIO(image_data))\n",
        "    image = image.resize((256, 256))\n",
        "\n",
        "    # 이미지 전처리\n",
        "    image = np.array(image)\n",
        "    image = (image - 127.5) / 127.5\n",
        "    image = np.expand_dims(image, axis=0)\n",
        "\n",
        "    # 상하의에 따라 모델 불러오기\n",
        "    if identifier == 'top':\n",
        "        gen_model = tf.keras.models.load_model('gen_model_topwear.h5')\n",
        "    elif identifier == 'bottom':\n",
        "        gen_model = tf.keras.models.load_model('gen_model_bottomwear.h5')\n",
        "    else:\n",
        "        return render_template('serviceResult.html', error='Invalid identifier')\n",
        "\n",
        "    # 모델에 입력해 이미지 생성\n",
        "    generated_image = gen_model.predict(image)\n",
        "    generated_image = (generated_image + 1) / 2.0\n",
        "    generated_image = np.squeeze(generated_image, axis=0)\n",
        "    generated_image = (generated_image * 255).astype(np.uint8)\n",
        "    generated_image = Image.fromarray(generated_image)\n",
        "\n",
        "    # 생성된 이미지를 Base64 문자열로 인코딩하지 않고, 바로 바이너리 데이터로 전송\n",
        "    buffered = BytesIO()\n",
        "    generated_image.save(buffered, format=\"PNG\")\n",
        "\n",
        "    # Bing Visual Search API 호출\n",
        "    headers = {'Ocp-Apim-Subscription-Key': 'your_bing_subscription_key', 'Content-Type': 'application/octet-stream'}\n",
        "    params = {'mkt': 'ko-KR'}\n",
        "    response = requests.post(\n",
        "        \"https://api.bing.microsoft.com/v7.0/images/visualsearch\",\n",
        "        headers = headers,\n",
        "        params = params,\n",
        "        data = buffered.getvalue()  # 바이너리 이미지 데이터 직접 전송\n",
        "    )\n",
        "\n",
        "    # 검색 결과 처리\n",
        "    search_results = response.json()\n",
        "\n",
        "    # 결과 페이지로 이동 및 검색 결과 데이터 전달\n",
        "    return render_template('serviceResult.html', search_results=search_results)\n",
        "\n",
        "if __name__ == '__main__':\n",
        "    app.run(debug=True)\n"
      ],
      "metadata": {
        "id": "1_Ya8idpra8Q"
      },
      "execution_count": null,
      "outputs": []
    }
  ]
}